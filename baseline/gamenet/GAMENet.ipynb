{
  "nbformat": 4,
  "nbformat_minor": 0,
  "metadata": {
    "colab": {
      "name": "GAMENet.ipynb",
      "provenance": [],
      "collapsed_sections": [],
      "include_colab_link": true
    },
    "kernelspec": {
      "name": "python3",
      "display_name": "Python 3"
    },
    "language_info": {
      "name": "python"
    },
    "accelerator": "GPU"
  },
  "cells": [
    {
      "cell_type": "markdown",
      "metadata": {
        "id": "view-in-github",
        "colab_type": "text"
      },
      "source": [
        "<a href=\"https://colab.research.google.com/github/ricaelum42/Replication-of-SafeDrug/blob/main/baseline/gamenet/GAMENet.ipynb\" target=\"_parent\"><img src=\"https://colab.research.google.com/assets/colab-badge.svg\" alt=\"Open In Colab\"/></a>"
      ]
    },
    {
      "cell_type": "code",
      "source": [
        "from google.colab import drive\n",
        "drive.mount('/content/drive')\n",
        "%cd /content/drive/MyDrive/UIUC/spring2022/GAMENet/code\n",
        "#%cd /content/drive/My Drive/Colab Notebooks/SafeDrug_Replication/code\n",
        "!ls\n",
        "!pwd"
      ],
      "metadata": {
        "colab": {
          "base_uri": "https://localhost:8080/"
        },
        "id": "aX7boyWKiP-9",
        "outputId": "4ad1ab01-0896-44fe-c020-40576571e9c3"
      },
      "execution_count": 10,
      "outputs": [
        {
          "output_type": "stream",
          "name": "stdout",
          "text": [
            "Drive already mounted at /content/drive; to attempt to forcibly remount, call drive.mount(\"/content/drive\", force_remount=True).\n",
            "/content/drive/MyDrive/UIUC/spring2022/GAMENet/code\n",
            "baseline   models.py\tSafeDrug.py  train_GAMENet.py\n",
            "layers.py  __pycache__\tsaved\t     util.py\n",
            "/content/drive/MyDrive/UIUC/spring2022/GAMENet/code\n"
          ]
        }
      ]
    },
    {
      "cell_type": "code",
      "source": [
        "!pip install dnc"
      ],
      "metadata": {
        "colab": {
          "base_uri": "https://localhost:8080/"
        },
        "id": "_wjt2-JTkhxx",
        "outputId": "13f6bcc5-f017-468d-eec5-fb891b2a5620"
      },
      "execution_count": 11,
      "outputs": [
        {
          "output_type": "stream",
          "name": "stdout",
          "text": [
            "Requirement already satisfied: dnc in /usr/local/lib/python3.7/dist-packages (1.1.0)\n",
            "Requirement already satisfied: numpy in /usr/local/lib/python3.7/dist-packages (from dnc) (1.21.6)\n",
            "Requirement already satisfied: flann in /usr/local/lib/python3.7/dist-packages (from dnc) (1.6.13)\n",
            "Requirement already satisfied: torch in /usr/local/lib/python3.7/dist-packages (from dnc) (1.11.0+cu113)\n",
            "Requirement already satisfied: typing-extensions in /usr/local/lib/python3.7/dist-packages (from torch->dnc) (4.2.0)\n"
          ]
        }
      ]
    },
    {
      "cell_type": "code",
      "source": [
        "!curl -L bit.ly/rdkit-colab | tar xz -C /"
      ],
      "metadata": {
        "colab": {
          "base_uri": "https://localhost:8080/"
        },
        "id": "6s8JVvSxlBZI",
        "outputId": "672e85ee-7850-4025-bc4b-434854bda0f2"
      },
      "execution_count": 12,
      "outputs": [
        {
          "output_type": "stream",
          "name": "stdout",
          "text": [
            "  % Total    % Received % Xferd  Average Speed   Time    Time     Time  Current\n",
            "                                 Dload  Upload   Total   Spent    Left  Speed\n",
            "\r  0     0    0     0    0     0      0      0 --:--:-- --:--:-- --:--:--     0\r100   163  100   163    0     0   2144      0 --:--:-- --:--:-- --:--:--  2144\n",
            "  0     0    0     0    0     0      0      0 --:--:-- --:--:-- --:--:--     0\n",
            "  0     0    0     0    0     0      0      0 --:--:-- --:--:-- --:--:--     0\n",
            "100 29.6M  100 29.6M    0     0  17.9M      0  0:00:01  0:00:01 --:--:-- 26.9M\n"
          ]
        }
      ]
    },
    {
      "cell_type": "code",
      "execution_count": 13,
      "metadata": {
        "id": "26JyxB-xca8U"
      },
      "outputs": [],
      "source": [
        "import torch\n",
        "import argparse\n",
        "import numpy as np\n",
        "import dill\n",
        "import time\n",
        "from torch.nn import CrossEntropyLoss\n",
        "from torch.optim import Adam\n",
        "import os\n",
        "import torch.nn.functional as F\n",
        "from collections import defaultdict\n",
        "\n",
        "from models import GAMENet\n",
        "from util import llprint, multi_label_metric, ddi_rate_score, get_n_params\n",
        "\n",
        "torch.manual_seed(1203)\n",
        "np.random.seed(1203)\n",
        "\n",
        "model_name = 'GAMENet'\n",
        "#resume_name = ''\n",
        "resume_name = 'saved/{}/Epoch_49_JA_0.5141_DDI_0.0779.model'.format(model_name)\n",
        "\n",
        "if not os.path.exists(os.path.join(\"saved\", model_name)):\n",
        "        os.makedirs(os.path.join(\"saved\", model_name))"
      ]
    },
    {
      "cell_type": "code",
      "source": [
        "# Training settings\n",
        "parser = argparse.ArgumentParser()\n",
        "parser.add_argument('--eval', action='store_true', default=False, help=\"eval mode\")\n",
        "parser.add_argument('--model_name', type=str, default=model_name, help=\"model name\")\n",
        "parser.add_argument('--resume_path', type=str, default=resume_name, help='resume path')\n",
        "parser.add_argument('--ddi', action='store_true', default=False, help=\"using ddi\")\n",
        "\n",
        "#args = parser.parse_args()\n",
        "args = parser.parse_args(args=[])\n",
        "#model_name = args.model_name\n",
        "resume_name = 'saved/{}/Epoch_49_JA_0.5158_DDI_0.0750.model'.format(model_name)"
      ],
      "metadata": {
        "id": "VF_Hjutdkxpw"
      },
      "execution_count": 14,
      "outputs": []
    },
    {
      "cell_type": "code",
      "source": [
        "def eval(model, data_eval, voc_size, epoch):\n",
        "    # evaluate\n",
        "    print('')\n",
        "    model.eval()\n",
        "    smm_record = []\n",
        "    ja, prauc, avg_p, avg_r, avg_f1 = [[] for _ in range(5)]\n",
        "    case_study = defaultdict(dict)\n",
        "    med_cnt = 0\n",
        "    visit_cnt = 0\n",
        "    for step, input in enumerate(data_eval):\n",
        "        y_gt = []\n",
        "        y_pred = []\n",
        "        y_pred_prob = []\n",
        "        y_pred_label = []\n",
        "        for adm_idx, adm in enumerate(input):\n",
        "\n",
        "            target_output1 = model(input[:adm_idx+1])\n",
        "\n",
        "            y_gt_tmp = np.zeros(voc_size[2])\n",
        "            y_gt_tmp[adm[2]] = 1\n",
        "            y_gt.append(y_gt_tmp)\n",
        "\n",
        "            target_output1 = F.sigmoid(target_output1).detach().cpu().numpy()[0]\n",
        "            y_pred_prob.append(target_output1)\n",
        "            y_pred_tmp = target_output1.copy()\n",
        "            y_pred_tmp[y_pred_tmp>=0.5] = 1\n",
        "            y_pred_tmp[y_pred_tmp<0.5] = 0\n",
        "            y_pred.append(y_pred_tmp)\n",
        "            y_pred_label_tmp = np.where(y_pred_tmp == 1)[0]\n",
        "            y_pred_label.append(sorted(y_pred_label_tmp))\n",
        "            visit_cnt += 1\n",
        "            med_cnt += len(y_pred_label_tmp)\n",
        "\n",
        "\n",
        "        smm_record.append(y_pred_label)\n",
        "        adm_ja, adm_prauc, adm_avg_p, adm_avg_r, adm_avg_f1 = multi_label_metric(np.array(y_gt), np.array(y_pred), np.array(y_pred_prob))\n",
        "        case_study[adm_ja] = {'ja': adm_ja, 'patient': input, 'y_label': y_pred_label}\n",
        "\n",
        "        ja.append(adm_ja)\n",
        "        prauc.append(adm_prauc)\n",
        "        avg_p.append(adm_avg_p)\n",
        "        avg_r.append(adm_avg_r)\n",
        "        avg_f1.append(adm_avg_f1)\n",
        "        llprint('\\rEval--Epoch: %d, Step: %d/%d' % (epoch, step, len(data_eval)))\n",
        "\n",
        "    # ddi rate\n",
        "    ddi_rate = ddi_rate_score(smm_record)\n",
        "\n",
        "    llprint('\\tDDI Rate: %.4f, Jaccard: %.4f,  PRAUC: %.4f, AVG_PRC: %.4f, AVG_RECALL: %.4f, AVG_F1: %.4f\\n' % (\n",
        "        ddi_rate, np.mean(ja), np.mean(prauc), np.mean(avg_p), np.mean(avg_r), np.mean(avg_f1)\n",
        "    ))\n",
        "    dill.dump(obj=smm_record, file=open('../data/gamenet_records.pkl', 'wb'))\n",
        "    dill.dump(case_study, open(os.path.join('saved', model_name, 'case_study.pkl'), 'wb'))\n",
        "\n",
        "    # print('avg med', med_cnt / visit_cnt)\n",
        "\n",
        "    return ddi_rate, np.mean(ja), np.mean(prauc), np.mean(avg_p), np.mean(avg_r), np.mean(avg_f1)\n",
        "\n",
        "\n",
        "def main():\n",
        "    if not os.path.exists(os.path.join(\"saved\", model_name)):\n",
        "        os.makedirs(os.path.join(\"saved\", model_name))\n",
        "\n",
        "    data_path = '../data/records_final.pkl'\n",
        "    voc_path = '../data/voc_final.pkl'\n",
        "\n",
        "    ehr_adj_path = '../data/ehr_adj_final.pkl'\n",
        "    ddi_adj_path = '../data/ddi_A_final.pkl'\n",
        "    device = torch.device('cuda:0')\n",
        "\n",
        "    ehr_adj = dill.load(open(ehr_adj_path, 'rb'))\n",
        "    ddi_adj = dill.load(open(ddi_adj_path, 'rb'))\n",
        "    data = dill.load(open(data_path, 'rb'))\n",
        "    voc = dill.load(open(voc_path, 'rb'))\n",
        "    diag_voc, pro_voc, med_voc = voc['diag_voc'], voc['pro_voc'], voc['med_voc']\n",
        "\n",
        "    split_point = int(len(data) * 2 / 3)\n",
        "    data_train = data[:split_point]\n",
        "    eval_len = int(len(data[split_point:]) / 2)\n",
        "    data_test = data[split_point:split_point + eval_len]\n",
        "    data_eval = data[split_point+eval_len:]\n",
        "\n",
        "    EPOCH = 50\n",
        "    LR = 0.0002\n",
        "    TEST = True\n",
        "    Neg_Loss = args.ddi\n",
        "    DDI_IN_MEM = args.ddi\n",
        "    TARGET_DDI = 0.06\n",
        "    T = 0.5\n",
        "    decay_weight = 0.85\n",
        "\n",
        "    voc_size = (len(diag_voc.idx2word), len(pro_voc.idx2word), len(med_voc.idx2word))\n",
        "    model = GAMENet(voc_size, ehr_adj, ddi_adj, emb_dim=64, device=device, ddi_in_memory=DDI_IN_MEM)\n",
        "    if TEST:\n",
        "        model.load_state_dict(torch.load(open(resume_name, 'rb')))\n",
        "    model.to(device=device)\n",
        "\n",
        "    print('parameters', get_n_params(model))\n",
        "    optimizer = Adam(list(model.parameters()), lr=LR)\n",
        "\n",
        "    if TEST:\n",
        "        tic = time.time()\n",
        "        model.load_state_dict(torch.load(open(resume_name, 'rb')))\n",
        "        model.to(device=device)\n",
        "        ddi_rate, ja, prauc, avg_p, avg_r, avg_f1 = eval(model, data_test, voc_size, 0)\n",
        "        print ('TEST time: {}'.format(time.time() - tic))\n",
        "        return ddi_rate, ja, prauc, avg_p, avg_r, avg_f1\n",
        "\n",
        "    else:\n",
        "        history = defaultdict(list)\n",
        "        best_epoch = 0\n",
        "        best_ja = 0\n",
        "        for epoch in range(EPOCH):\n",
        "            \n",
        "            tic = time.time()\n",
        "            \n",
        "            loss_record1 = []\n",
        "            start_time = time.time()\n",
        "            model.train()\n",
        "            prediction_loss_cnt = 0\n",
        "            neg_loss_cnt = 0\n",
        "            for step, input in enumerate(data_train):\n",
        "                for idx, adm in enumerate(input):\n",
        "                    seq_input = input[:idx+1]\n",
        "                    loss1_target = np.zeros((1, voc_size[2]))\n",
        "                    loss1_target[:, adm[2]] = 1\n",
        "                    loss3_target = np.full((1, voc_size[2]), -1)\n",
        "                    for idx, item in enumerate(adm[2]):\n",
        "                        loss3_target[0][idx] = item\n",
        "\n",
        "                    target_output1, batch_neg_loss = model(seq_input)\n",
        "\n",
        "                    loss1 = F.binary_cross_entropy_with_logits(target_output1, torch.FloatTensor(loss1_target).to(device))\n",
        "                    loss3 = F.multilabel_margin_loss(F.sigmoid(target_output1), torch.LongTensor(loss3_target).to(device))\n",
        "                    if Neg_Loss:\n",
        "                        target_output1 = F.sigmoid(target_output1).detach().cpu().numpy()[0]\n",
        "                        target_output1[target_output1 >= 0.5] = 1\n",
        "                        target_output1[target_output1 < 0.5] = 0\n",
        "                        y_label = np.where(target_output1 == 1)[0]\n",
        "                        current_ddi_rate = ddi_rate_score([[y_label]])\n",
        "                        if current_ddi_rate <= TARGET_DDI:\n",
        "                            loss = 0.9 * loss1 + 0.01 * loss3\n",
        "                            prediction_loss_cnt += 1\n",
        "                        else:\n",
        "                            rnd = np.exp((TARGET_DDI - current_ddi_rate)/T)\n",
        "                            if np.random.rand(1) < rnd:\n",
        "                                loss = batch_neg_loss\n",
        "                                neg_loss_cnt += 1\n",
        "                            else:\n",
        "                                loss = 0.9 * loss1 + 0.01 * loss3\n",
        "                                prediction_loss_cnt += 1\n",
        "                    else:\n",
        "                        loss = 0.9 * loss1 + 0.01 * loss3\n",
        "\n",
        "                    optimizer.zero_grad()\n",
        "                    loss.backward(retain_graph=True)\n",
        "                    optimizer.step()\n",
        "\n",
        "                    loss_record1.append(loss.item())\n",
        "\n",
        "                llprint('\\rTrain--Epoch: %d, Step: %d/%d, L_p cnt: %d, L_neg cnt: %d' % (epoch, step, len(data_train), prediction_loss_cnt, neg_loss_cnt))\n",
        "            tic2 = time.time()\n",
        "            # annealing\n",
        "            T *= decay_weight\n",
        "\n",
        "            ddi_rate, ja, prauc, avg_p, avg_r, avg_f1 = eval(model, data_eval, voc_size, epoch)\n",
        "\n",
        "            print ('training time: {}, test time: {}'.format(time.time() - tic, time.time() - tic2))\n",
        "\n",
        "            history['ja'].append(ja)\n",
        "            history['ddi_rate'].append(ddi_rate)\n",
        "            history['avg_p'].append(avg_p)\n",
        "            history['avg_r'].append(avg_r)\n",
        "            history['avg_f1'].append(avg_f1)\n",
        "            history['prauc'].append(prauc)\n",
        "            history['train_time'].append(time.time() - tic)\n",
        "            history['memory'].append(torch.cuda.memory_allocated(0)/1024/1024)\n",
        "\n",
        "            end_time = time.time()\n",
        "            elapsed_time = (end_time - start_time) / 60\n",
        "            llprint('\\tEpoch: %d, Loss: %.4f, One Epoch Time: %.2fm, Appro Left Time: %.2fh\\n' % (epoch,\n",
        "                                                                                                np.mean(loss_record1),\n",
        "                                                                                                elapsed_time,\n",
        "                                                                                                elapsed_time * (\n",
        "                                                                                                            EPOCH - epoch - 1)/60))\n",
        "\n",
        "            torch.save(model.state_dict(), open( os.path.join('saved', model_name, 'Epoch_%d_JA_%.4f_DDI_%.4f.model' % (epoch, ja, ddi_rate)), 'wb'))\n",
        "            print('')\n",
        "            if epoch != 0 and best_ja < ja:\n",
        "                best_epoch = epoch\n",
        "                best_ja = ja\n",
        "\n",
        "\n",
        "        dill.dump(history, open(os.path.join('saved', model_name, 'history.pkl'), 'wb'))\n",
        "\n",
        "        # test\n",
        "        torch.save(model.state_dict(), open(\n",
        "            os.path.join('saved', model_name, 'final.model'), 'wb'))\n",
        "\n",
        "        print('best_epoch:', best_epoch)\n"
      ],
      "metadata": {
        "id": "Jr--A-z2zFbE"
      },
      "execution_count": 17,
      "outputs": []
    },
    {
      "cell_type": "code",
      "source": [
        "if __name__ == '__main__':\n",
        "    main()"
      ],
      "metadata": {
        "colab": {
          "base_uri": "https://localhost:8080/"
        },
        "id": "8-D7CQKemKbb",
        "outputId": "5a35db64-d50b-4361-ea30-26e9340b51b4"
      },
      "execution_count": 18,
      "outputs": [
        {
          "output_type": "stream",
          "name": "stdout",
          "text": [
            "parameters 444209\n",
            "\n",
            "Eval--Epoch: 0, Step: 1057/1058\tDDI Rate: 0.0751, Jaccard: 0.5145,  PRAUC: 0.7672, AVG_PRC: 0.6911, AVG_RECALL: 0.6786, AVG_F1: 0.6701\n",
            "TEST time: 15.073293447494507\n"
          ]
        }
      ]
    },
    {
      "cell_type": "code",
      "source": [
        "import pickle\n",
        "with open(os.path.join('saved', args.model_name, 'history.pkl'), 'rb') as f:\n",
        "  fin = pickle.load(f)"
      ],
      "metadata": {
        "id": "z4dCHdxr2a22"
      },
      "execution_count": null,
      "outputs": []
    },
    {
      "cell_type": "code",
      "source": [
        "import numpy as np\n",
        "print('Average Training time is: {}'.format(np.average(fin['train_time'])))\n",
        "print('Average Memory Usage is: {}'.format(np.average(fin['memory'])))\n",
        "print('Average DDI is {}, Std DDI is {}'.format(np.average(fin['ddi_rate']), np.std(fin['ddi_rate'])))\n",
        "print('Average Jaccard is {}, Std Jaccard is {}'.format(np.average(fin['ja']), np.std(fin['ja'])))"
      ],
      "metadata": {
        "colab": {
          "base_uri": "https://localhost:8080/"
        },
        "id": "_A0lRwcy2xDV",
        "outputId": "30826fd3-5489-4aeb-bec0-4660b9ae2d19"
      },
      "execution_count": null,
      "outputs": [
        {
          "output_type": "stream",
          "name": "stdout",
          "text": [
            "Average Training time is: 114.24701704978943\n",
            "Average Memory Usage is: 7.00048828125\n",
            "Average DDI is 0.07922055350500584, Std DDI is 0.003939833812746274\n",
            "Average Jaccard is 0.5072153443872137, Std Jaccard is 0.01853245944475603\n"
          ]
        }
      ]
    }
  ]
}