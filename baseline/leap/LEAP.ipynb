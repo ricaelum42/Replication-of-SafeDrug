{
  "nbformat": 4,
  "nbformat_minor": 0,
  "metadata": {
    "colab": {
      "name": "LEAP.ipynb",
      "provenance": [],
      "collapsed_sections": [],
      "machine_shape": "hm",
      "authorship_tag": "ABX9TyO7ln0PY6eJwo+t/hfzDV8l",
      "include_colab_link": true
    },
    "kernelspec": {
      "name": "python3",
      "display_name": "Python 3"
    },
    "language_info": {
      "name": "python"
    },
    "accelerator": "GPU"
  },
  "cells": [
    {
      "cell_type": "markdown",
      "metadata": {
        "id": "view-in-github",
        "colab_type": "text"
      },
      "source": [
        "<a href=\"https://colab.research.google.com/github/ricaelum42/Replication-of-SafeDrug/blob/main/baseline/leap/LEAP.ipynb\" target=\"_parent\"><img src=\"https://colab.research.google.com/assets/colab-badge.svg\" alt=\"Open In Colab\"/></a>"
      ]
    },
    {
      "cell_type": "code",
      "execution_count": 1,
      "metadata": {
        "colab": {
          "base_uri": "https://localhost:8080/"
        },
        "id": "HTH2cQAL-_uU",
        "outputId": "85f35907-d73f-45c7-ed93-d1f3b1abe861"
      },
      "outputs": [
        {
          "output_type": "stream",
          "name": "stdout",
          "text": [
            "Mounted at /content/drive\n",
            "/content/drive/MyDrive/UIUC/spring2022/GAMENet/code\n",
            "baseline   models.py\tSafeDrug.py  train_GAMENet.py\n",
            "layers.py  __pycache__\tsaved\t     util.py\n",
            "/content/drive/MyDrive/UIUC/spring2022/GAMENet/code\n"
          ]
        }
      ],
      "source": [
        "from google.colab import drive\n",
        "drive.mount('/content/drive')\n",
        "%cd /content/drive/MyDrive/UIUC/spring2022/GAMENet/code\n",
        "!ls\n",
        "!pwd"
      ]
    },
    {
      "cell_type": "code",
      "source": [
        "!pip install dnc"
      ],
      "metadata": {
        "colab": {
          "base_uri": "https://localhost:8080/"
        },
        "id": "xVdzQGBS_VjR",
        "outputId": "fcc333bf-b4fc-4c58-c8ea-b281001f07e9"
      },
      "execution_count": 4,
      "outputs": [
        {
          "output_type": "stream",
          "name": "stdout",
          "text": [
            "Collecting dnc\n",
            "  Downloading dnc-1.1.0-py3-none-any.whl (20 kB)\n",
            "Requirement already satisfied: torch in /usr/local/lib/python3.7/dist-packages (from dnc) (1.11.0+cu113)\n",
            "Collecting flann\n",
            "  Downloading flann-1.6.13-py3-none-any.whl (24 kB)\n",
            "Requirement already satisfied: numpy in /usr/local/lib/python3.7/dist-packages (from dnc) (1.21.6)\n",
            "Requirement already satisfied: typing-extensions in /usr/local/lib/python3.7/dist-packages (from torch->dnc) (4.2.0)\n",
            "Installing collected packages: flann, dnc\n",
            "Successfully installed dnc-1.1.0 flann-1.6.13\n"
          ]
        }
      ]
    },
    {
      "cell_type": "code",
      "source": [
        "import torch\n",
        "import torch.nn as nn\n",
        "from sklearn.metrics import jaccard_score, roc_auc_score, precision_score, f1_score, average_precision_score\n",
        "import numpy as np\n",
        "import dill\n",
        "import time\n",
        "from torch.nn import CrossEntropyLoss\n",
        "from torch.optim import Adam\n",
        "import os\n",
        "import torch.nn.functional as F\n",
        "import random\n",
        "from collections import defaultdict\n",
        "\n",
        "import sys\n",
        "sys.path.append(\"..\")\n",
        "from models import Leap\n",
        "from util import llprint, sequence_metric, sequence_output_process, ddi_rate_score, get_n_params\n",
        "\n",
        "torch.manual_seed(1203)"
      ],
      "metadata": {
        "colab": {
          "base_uri": "https://localhost:8080/"
        },
        "id": "4AQwKJ7e_KJ2",
        "outputId": "25a45f68-7128-404c-885e-3d84ceb1dc7c"
      },
      "execution_count": 5,
      "outputs": [
        {
          "output_type": "execute_result",
          "data": {
            "text/plain": [
              "<torch._C.Generator at 0x7f33f9639890>"
            ]
          },
          "metadata": {},
          "execution_count": 5
        }
      ]
    },
    {
      "cell_type": "code",
      "source": [
        "model_name = 'Leap'\n",
        "#resume_name = ''\n",
        "#JA_0.4465_DDI_0.0723\n",
        "resume_name = 'saved/{}/Epoch_49_JA_0.4496_DDI_0.0729.model'.format(model_name)\n",
        "\n",
        "if not os.path.exists(os.path.join(\"saved\", model_name)):\n",
        "        os.makedirs(os.path.join(\"saved\", model_name))"
      ],
      "metadata": {
        "id": "jU8S7XJr_cI7"
      },
      "execution_count": 11,
      "outputs": []
    },
    {
      "cell_type": "code",
      "source": [
        "def eval(model, data_eval, voc_size, epoch):\n",
        "    # evaluate\n",
        "    print('')\n",
        "    model.eval()\n",
        "\n",
        "    ja, prauc, avg_p, avg_r, avg_f1 = [[] for _ in range(5)]\n",
        "    records = []\n",
        "    med_cnt = 0\n",
        "    visit_cnt = 0\n",
        "    for step, input in enumerate(data_eval):\n",
        "        y_gt = []\n",
        "        y_pred = []\n",
        "        y_pred_prob = []\n",
        "        y_pred_label = []\n",
        "        for adm in input:\n",
        "            y_gt_tmp = np.zeros(voc_size[2])\n",
        "            y_gt_tmp[adm[2]] = 1\n",
        "            y_gt.append(y_gt_tmp)\n",
        "\n",
        "            output_logits = model(adm)\n",
        "            output_logits = output_logits.detach().cpu().numpy()\n",
        "\n",
        "            out_list, sorted_predict = sequence_output_process(output_logits, [voc_size[2], voc_size[2]+1])\n",
        "\n",
        "            y_pred_label.append(sorted(sorted_predict))\n",
        "            y_pred_prob.append(np.mean(output_logits[:, :-2], axis=0))\n",
        "\n",
        "            y_pred_tmp = np.zeros(voc_size[2])\n",
        "            y_pred_tmp[out_list] = 1\n",
        "            y_pred.append(y_pred_tmp)\n",
        "            visit_cnt += 1\n",
        "            med_cnt += len(sorted_predict)\n",
        "        records.append(y_pred_label)\n",
        "\n",
        "        adm_ja, adm_prauc, adm_avg_p, adm_avg_r, adm_avg_f1 = sequence_metric(np.array(y_gt), np.array(y_pred), np.array(y_pred_prob), np.array(y_pred_label))\n",
        "        ja.append(adm_ja)\n",
        "        prauc.append(adm_prauc)\n",
        "        avg_p.append(adm_avg_p)\n",
        "        avg_r.append(adm_avg_r)\n",
        "        avg_f1.append(adm_avg_f1)\n",
        "        llprint('\\rEval--Epoch: %d, Step: %d/%d' % (epoch, step, len(data_eval)))\n",
        "\n",
        "    # ddi rate\n",
        "    ddi_rate = ddi_rate_score(records)\n",
        "    llprint('\\tDDI Rate: %.4f, Jaccard: %.4f,  PRAUC: %.4f, AVG_PRC: %.4f, AVG_RECALL: %.4f, AVG_F1: %.4f\\n' % (\n",
        "        ddi_rate, np.mean(ja), np.mean(prauc), np.mean(avg_p), np.mean(avg_r), np.mean(avg_f1)\n",
        "    ))\n",
        "    print('avg med', med_cnt / visit_cnt)\n",
        "    return ddi_rate, np.mean(ja), np.mean(prauc), np.mean(avg_p), np.mean(avg_r), np.mean(avg_f1)\n",
        "\n",
        "def main():\n",
        "    if not os.path.exists(os.path.join(\"saved\", model_name)):\n",
        "        os.makedirs(os.path.join(\"saved\", model_name))\n",
        "\n",
        "    data_path = '../data/records_final.pkl'\n",
        "    voc_path = '../data/voc_final.pkl'\n",
        "    device = torch.device('cuda:0')\n",
        "\n",
        "    data = dill.load(open(data_path, 'rb'))\n",
        "    voc = dill.load(open(voc_path, 'rb'))\n",
        "    diag_voc, pro_voc, med_voc = voc['diag_voc'], voc['pro_voc'], voc['med_voc']\n",
        "\n",
        "\n",
        "    split_point = int(len(data) * 2 / 3)\n",
        "    data_train = data[:split_point]\n",
        "    eval_len = int(len(data[split_point:]) / 2)\n",
        "    data_test = data[split_point:split_point + eval_len]\n",
        "    data_eval = data[split_point+eval_len:]\n",
        "    voc_size = (len(diag_voc.idx2word), len(pro_voc.idx2word), len(med_voc.idx2word))\n",
        "\n",
        "    EPOCH = 50\n",
        "    LR = 0.0002\n",
        "    TEST = True\n",
        "    END_TOKEN = voc_size[2] + 1\n",
        "\n",
        "    model = Leap(voc_size, device=device)\n",
        "    if TEST:\n",
        "        tic = time.time()\n",
        "        model.load_state_dict(torch.load(open(os.path.join(resume_name), 'rb')))\n",
        "        model.to(device=device)\n",
        "        ddi_rate, ja, prauc, avg_p, avg_r, avg_f1 = eval(model, data_eval, voc_size, 0)\n",
        "        print ('TEST time: {}'.format(time.time() - tic))\n",
        "        return ddi_rate, ja, prauc, avg_p, avg_r, avg_f1\n",
        "\n",
        "    model.to(device=device)\n",
        "    print('parameters', get_n_params(model))\n",
        "\n",
        "    optimizer = Adam(model.parameters(), lr=LR)\n",
        "\n",
        "    if TEST:\n",
        "        eval(model, data_test, voc_size, 0)\n",
        "    else:\n",
        "        history = defaultdict(list)\n",
        "        for epoch in range(EPOCH):\n",
        "\n",
        "            tic = time.time()\n",
        "\n",
        "            loss_record = []\n",
        "            start_time = time.time()\n",
        "            model.train()\n",
        "            for step, input in enumerate(data_train):\n",
        "                for adm in input:\n",
        "                    loss_target = adm[2] + [END_TOKEN]\n",
        "                    output_logits = model(adm)\n",
        "                    loss = F.cross_entropy(output_logits, torch.LongTensor(loss_target).to(device))\n",
        "\n",
        "                    loss_record.append(loss.item())\n",
        "\n",
        "                    optimizer.zero_grad()\n",
        "                    loss.backward(retain_graph=True)\n",
        "                    optimizer.step()\n",
        "\n",
        "                llprint('\\rTrain--Epoch: %d, Step: %d/%d' % (epoch, step, len(data_train)))\n",
        "            tic2 = time.time()\n",
        "            print ('training time: {}, test time: {}'.format(time.time() - tic, time.time() - tic2))\n",
        "\n",
        "            ddi_rate, ja, prauc, avg_p, avg_r, avg_f1 = eval(model, data_eval, voc_size, epoch)\n",
        "            history['ja'].append(ja)\n",
        "            history['ddi_rate'].append(ddi_rate)\n",
        "            history['avg_p'].append(avg_p)\n",
        "            history['avg_r'].append(avg_r)\n",
        "            history['avg_f1'].append(avg_f1)\n",
        "            history['prauc'].append(prauc)\n",
        "            history['train_time'].append(time.time() - tic)\n",
        "            history['memory'].append(torch.cuda.memory_allocated(0)/1024/1024)\n",
        "\n",
        "            end_time = time.time()\n",
        "            elapsed_time = (end_time - start_time) / 60\n",
        "            llprint('\\tEpoch: %d, Loss1: %.4f, One Epoch Time: %.2fm, Appro Left Time: %.2fh\\n' % (epoch,\n",
        "                                                                                                np.mean(loss_record),\n",
        "                                                                                                elapsed_time,\n",
        "                                                                                                elapsed_time * (\n",
        "                                                                                                            EPOCH - epoch - 1)/60))\n",
        "\n",
        "            torch.save(model.state_dict(), open( os.path.join('saved', model_name, 'Epoch_%d_JA_%.4f_DDI_%.4f.model' % (epoch, ja, ddi_rate)), 'wb'))\n",
        "            print('')\n",
        "\n",
        "        dill.dump(history, open(os.path.join('saved', model_name, 'history.pkl'), 'wb'))\n",
        "        # test\n",
        "        torch.save(model.state_dict(), open(\n",
        "            os.path.join('saved', model_name, 'final.model'), 'wb'))\n",
        "\n",
        "def fine_tune(fine_tune_name=''):\n",
        "    data_path = '../data/records_final.pkl'\n",
        "    voc_path = '../data/voc_final.pkl'\n",
        "    device = torch.device('cuda:0')\n",
        "\n",
        "    data = dill.load(open(data_path, 'rb'))\n",
        "    voc = dill.load(open(voc_path, 'rb'))\n",
        "    diag_voc, pro_voc, med_voc = voc['diag_voc'], voc['pro_voc'], voc['med_voc']\n",
        "    ddi_A = dill.load(open('../data/ddi_A_final.pkl', 'rb'))\n",
        "\n",
        "    split_point = int(len(data) * 2 / 3)\n",
        "    data_train = data[:split_point]\n",
        "    eval_len = int(len(data[split_point:]) / 2)\n",
        "    data_test = data[split_point:split_point + eval_len]\n",
        "    # data_eval = data[split_point+eval_len:]\n",
        "    voc_size = (len(diag_voc.idx2word), len(pro_voc.idx2word), len(med_voc.idx2word))\n",
        "\n",
        "    model = Leap(voc_size, device=device)\n",
        "    model.load_state_dict(torch.load(open(os.path.join(\"saved\", model_name, fine_tune_name), 'rb')))\n",
        "    model.to(device)\n",
        "\n",
        "    EPOCH = 30\n",
        "    LR = 0.0001\n",
        "    END_TOKEN = voc_size[2] + 1\n",
        "\n",
        "    optimizer = Adam(model.parameters(), lr=LR)\n",
        "    ddi_rate_record = []\n",
        "    for epoch in range(1):\n",
        "        loss_record = []\n",
        "        start_time = time.time()\n",
        "        random_train_set = [ random.choice(data_train) for i in range(len(data_train))]\n",
        "        for step, input in enumerate(random_train_set):\n",
        "            model.train()\n",
        "            K_flag = False\n",
        "            for adm in input:\n",
        "                target = adm[2]\n",
        "                output_logits = model(adm)\n",
        "                out_list, sorted_predict = sequence_output_process(output_logits.detach().cpu().numpy(), [voc_size[2], voc_size[2] + 1])\n",
        "\n",
        "                inter = set(out_list) & set(target)\n",
        "                union = set(out_list) | set(target)\n",
        "                jaccard = 0 if union == 0 else len(inter) / len(union)\n",
        "                K = 0\n",
        "                for i in out_list:\n",
        "                    if K == 1:\n",
        "                        K_flag = True\n",
        "                        break\n",
        "                    for j in out_list:\n",
        "                        if ddi_A[i][j] == 1:\n",
        "                            K = 1\n",
        "                            break\n",
        "\n",
        "                loss = -jaccard * K * torch.mean(F.log_softmax(output_logits, dim=-1))\n",
        "\n",
        "\n",
        "                loss_record.append(loss.item())\n",
        "\n",
        "                optimizer.zero_grad()\n",
        "                loss.backward(retain_graph=True)\n",
        "                optimizer.step()\n",
        "\n",
        "            llprint('\\rTrain--Epoch: %d, Step: %d/%d' % (epoch, step, len(data_train)))\n",
        "\n",
        "            if K_flag:\n",
        "                ddi_rate, ja, prauc, avg_p, avg_r, avg_f1 = eval(model, data_test, voc_size, epoch)\n",
        "\n",
        "\n",
        "                end_time = time.time()\n",
        "                elapsed_time = (end_time - start_time) / 60\n",
        "                llprint('\\tEpoch: %d, Loss1: %.4f, One Epoch Time: %.2fm, Appro Left Time: %.2fh\\n' % (epoch,\n",
        "                                                                                               np.mean(loss_record),\n",
        "                                                                                               elapsed_time,\n",
        "                                                                                               elapsed_time * (\n",
        "                                                                                                       EPOCH - epoch - 1) / 60))\n",
        "\n",
        "                torch.save(model.state_dict(),\n",
        "                   open(os.path.join('saved', model_name, 'fine_Epoch_%d_JA_%.4f_DDI_%.4f.model' % (epoch, ja, ddi_rate)),\n",
        "                        'wb'))\n",
        "                print('')\n",
        "\n",
        "    # test\n",
        "    torch.save(model.state_dict(), open(\n",
        "        os.path.join('saved', model_name, 'final.model'), 'wb'))\n",
        "\n",
        "\n",
        "\n",
        "if __name__ == '__main__':\n",
        "    main()\n",
        "    #fine_tune(fine_tune_name='Epoch_50_JA_0.4465_DDI_0.0723.model')"
      ],
      "metadata": {
        "colab": {
          "base_uri": "https://localhost:8080/"
        },
        "id": "NdRmTLD1_kpM",
        "outputId": "cdfbfa04-eb87-4246-f4aa-6da8fd82bdca"
      },
      "execution_count": 14,
      "outputs": [
        {
          "output_type": "stream",
          "name": "stdout",
          "text": [
            "\n",
            "Eval--Epoch: 0, Step: 1058/1059\tDDI Rate: 0.0729, Jaccard: 0.4496,  PRAUC: 0.6521, AVG_PRC: 0.6421, AVG_RECALL: 0.6207, AVG_F1: 0.6122\n",
            "avg med 18.936375603334795\n",
            "TEST time: 29.20823049545288\n"
          ]
        }
      ]
    },
    {
      "cell_type": "code",
      "source": [
        "import pickle\n",
        "with open(os.path.join('saved', 'Leap', 'history.pkl'), 'rb') as f:\n",
        "  fin = pickle.load(f)"
      ],
      "metadata": {
        "id": "iqqtrFqyTIpl"
      },
      "execution_count": 6,
      "outputs": []
    },
    {
      "cell_type": "code",
      "source": [
        "import numpy as np\n",
        "print('Average Training time is: {}'.format(np.average(fin['train_time'])))\n",
        "print('Average Memory Usage is: {}'.format(np.average(fin['memory'])))\n",
        "print('Average DDI is {}, Std DDI is {}'.format(np.average(fin['ddi_rate']), np.std(fin['ddi_rate'])))\n",
        "print('Average Jaccard is {}, Std Jaccard is {}'.format(np.average(fin['ja']), np.std(fin['ja'])))"
      ],
      "metadata": {
        "id": "hbIkjZ-jTUe-",
        "outputId": "97b133e5-9a46-470d-ad8d-8edac0a74d3c",
        "colab": {
          "base_uri": "https://localhost:8080/"
        }
      },
      "execution_count": 7,
      "outputs": [
        {
          "output_type": "stream",
          "name": "stdout",
          "text": [
            "Average Training time is: 278.3180839443207\n",
            "Average Memory Usage is: 6.7158203125\n",
            "Average DDI is 0.07448616931791693, Std DDI is 0.0048194962468399135\n",
            "Average Jaccard is 0.44253239733404826, Std Jaccard is 0.013574873164988363\n"
          ]
        }
      ]
    }
  ]
}