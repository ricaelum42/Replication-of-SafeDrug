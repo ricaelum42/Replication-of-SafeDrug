{
  "nbformat": 4,
  "nbformat_minor": 0,
  "metadata": {
    "colab": {
      "name": "RETAIN.ipynb",
      "provenance": [],
      "collapsed_sections": [],
      "include_colab_link": true
    },
    "kernelspec": {
      "name": "python3",
      "display_name": "Python 3"
    },
    "language_info": {
      "name": "python"
    },
    "accelerator": "GPU"
  },
  "cells": [
    {
      "cell_type": "markdown",
      "metadata": {
        "id": "view-in-github",
        "colab_type": "text"
      },
      "source": [
        "<a href=\"https://colab.research.google.com/github/ricaelum42/Replication-of-SafeDrug/blob/main/baseline/retain/RETAIN.ipynb\" target=\"_parent\"><img src=\"https://colab.research.google.com/assets/colab-badge.svg\" alt=\"Open In Colab\"/></a>"
      ]
    },
    {
      "cell_type": "code",
      "source": [
        "from google.colab import drive\n",
        "drive.mount('/content/drive')\n",
        "%cd /content/drive/MyDrive/UIUC/spring2022/GAMENet/code\n",
        "!ls\n",
        "!pwd"
      ],
      "metadata": {
        "colab": {
          "base_uri": "https://localhost:8080/"
        },
        "id": "AteQF-Sh8wi1",
        "outputId": "346eb465-f3e3-4334-b8a2-21faf5173ac3"
      },
      "execution_count": 1,
      "outputs": [
        {
          "output_type": "stream",
          "name": "stdout",
          "text": [
            "Mounted at /content/drive\n",
            "/content/drive/MyDrive/UIUC/spring2022/GAMENet/code\n",
            "baseline   models.py\tSafeDrug.py  train_GAMENet.py\n",
            "layers.py  __pycache__\tsaved\t     util.py\n",
            "/content/drive/MyDrive/UIUC/spring2022/GAMENet/code\n"
          ]
        }
      ]
    },
    {
      "cell_type": "code",
      "source": [
        "!pip install dnc"
      ],
      "metadata": {
        "colab": {
          "base_uri": "https://localhost:8080/"
        },
        "id": "SUPQQjRF9GTb",
        "outputId": "7b4c5dd8-0e46-4b20-e7d0-3132dd4ba64a"
      },
      "execution_count": 2,
      "outputs": [
        {
          "output_type": "stream",
          "name": "stdout",
          "text": [
            "Collecting dnc\n",
            "  Downloading dnc-1.1.0-py3-none-any.whl (20 kB)\n",
            "Requirement already satisfied: torch in /usr/local/lib/python3.7/dist-packages (from dnc) (1.11.0+cu113)\n",
            "Requirement already satisfied: numpy in /usr/local/lib/python3.7/dist-packages (from dnc) (1.21.6)\n",
            "Collecting flann\n",
            "  Downloading flann-1.6.13-py3-none-any.whl (24 kB)\n",
            "Requirement already satisfied: typing-extensions in /usr/local/lib/python3.7/dist-packages (from torch->dnc) (4.2.0)\n",
            "Installing collected packages: flann, dnc\n",
            "Successfully installed dnc-1.1.0 flann-1.6.13\n"
          ]
        }
      ]
    },
    {
      "cell_type": "code",
      "source": [
        "import torch\n",
        "import torch.nn as nn\n",
        "from sklearn.metrics import jaccard_score, roc_auc_score, precision_score, f1_score, average_precision_score\n",
        "import numpy as np\n",
        "import dill\n",
        "import time\n",
        "from torch.nn import CrossEntropyLoss\n",
        "from torch.optim import Adam\n",
        "import os\n",
        "import torch.nn.functional as F\n",
        "from collections import defaultdict\n",
        "\n",
        "import sys\n",
        "sys.path.append(\"..\")\n",
        "from models import Retain\n",
        "from util import llprint, multi_label_metric, ddi_rate_score, get_n_params"
      ],
      "metadata": {
        "id": "m01LjJQC9BSb"
      },
      "execution_count": 3,
      "outputs": []
    },
    {
      "cell_type": "code",
      "source": [
        "torch.manual_seed(1203)\n",
        "model_name = 'Retain'\n",
        "#resume_name = ''\n",
        "resume_name = 'saved/{}/Epoch_49_JA_0.4905_DDI_0.0777.model'.format(model_name)\n",
        "\n",
        "if not os.path.exists(os.path.join(\"saved\", model_name)):\n",
        "        os.makedirs(os.path.join(\"saved\", model_name))"
      ],
      "metadata": {
        "id": "Q-HxNWhT9a6_"
      },
      "execution_count": 4,
      "outputs": []
    },
    {
      "cell_type": "code",
      "source": [
        "def eval(model, data_eval, voc_size, epoch):\n",
        "    # evaluate\n",
        "    print('')\n",
        "    model.eval()\n",
        "    smm_record = []\n",
        "    ja, prauc, avg_p, avg_r, avg_f1 = [[] for _ in range(5)]\n",
        "    case_study = defaultdict(dict)\n",
        "    med_cnt = 0\n",
        "    visit_cnt = 0\n",
        "    for step, input in enumerate(data_eval):\n",
        "        if len(input) < 2: # visit > 2\n",
        "            continue\n",
        "        y_gt = []\n",
        "        y_pred = []\n",
        "        y_pred_prob = []\n",
        "        y_pred_label = []\n",
        "        for i in range(1, len(input)):\n",
        "\n",
        "            y_pred_label_tmp = []\n",
        "            y_gt_tmp = np.zeros(voc_size[2])\n",
        "            y_gt_tmp[input[i][2]] = 1\n",
        "            y_gt.append(y_gt_tmp)\n",
        "\n",
        "            target_output1 = model(input[:i])\n",
        "\n",
        "            target_output1 = F.sigmoid(target_output1).detach().cpu().numpy()[0]\n",
        "            y_pred_prob.append(target_output1)\n",
        "            y_pred_tmp = target_output1.copy()\n",
        "            y_pred_tmp[y_pred_tmp >= 0.3] = 1\n",
        "            y_pred_tmp[y_pred_tmp < 0.3] = 0\n",
        "            y_pred.append(y_pred_tmp)\n",
        "            for idx, value in enumerate(y_pred_tmp):\n",
        "                if value == 1:\n",
        "                    y_pred_label_tmp.append(idx)\n",
        "            y_pred_label.append(y_pred_label_tmp)\n",
        "            med_cnt += len(y_pred_label_tmp)\n",
        "            visit_cnt += 1\n",
        "\n",
        "        smm_record.append(y_pred_label)\n",
        "        adm_ja, adm_prauc, adm_avg_p, adm_avg_r, adm_avg_f1 = multi_label_metric(np.array(y_gt), np.array(y_pred),\n",
        "                                                                                   np.array(y_pred_prob))\n",
        "        case_study[adm_ja] = {'ja': adm_ja, 'patient':input, 'y_label':y_pred_label}\n",
        "        ja.append(adm_ja)\n",
        "        prauc.append(adm_prauc)\n",
        "        avg_p.append(adm_avg_p)\n",
        "        avg_r.append(adm_avg_r)\n",
        "        avg_f1.append(adm_avg_f1)\n",
        "        llprint('\\rEval--Epoch: %d, Step: %d/%d' % (epoch, step, len(data_eval)))\n",
        "\n",
        "    dill.dump(case_study, open(os.path.join('saved', model_name, 'case_study.pkl'), 'wb'))\n",
        "    # ddi rate\n",
        "    ddi_rate = ddi_rate_score(smm_record)\n",
        "\n",
        "    llprint('\\tDDI Rate: %.4f, Jaccard: %.4f,  PRAUC: %.4f, AVG_PRC: %.4f, AVG_RECALL: %.4f, AVG_F1: %.4f\\n' % (\n",
        "        ddi_rate, np.mean(ja), np.mean(prauc), np.mean(avg_p), np.mean(avg_r), np.mean(avg_f1)\n",
        "    ))\n",
        "    print('avg med', med_cnt / visit_cnt)\n",
        "\n",
        "    return ddi_rate, np.mean(ja), np.mean(prauc), np.mean(avg_p), np.mean(avg_r), np.mean(avg_f1)\n",
        "\n",
        "\n",
        "def main():\n",
        "    if not os.path.exists(os.path.join(\"saved\", model_name)):\n",
        "        os.makedirs(os.path.join(\"saved\", model_name))\n",
        "\n",
        "    data_path = '../data/records_final.pkl'\n",
        "    voc_path = '../data/voc_final.pkl'\n",
        "    device = torch.device('cuda:0')\n",
        "\n",
        "    data = dill.load(open(data_path, 'rb'))\n",
        "    voc = dill.load(open(voc_path, 'rb'))\n",
        "    diag_voc, pro_voc, med_voc = voc['diag_voc'], voc['pro_voc'], voc['med_voc']\n",
        "\n",
        "    split_point = int(len(data) * 2 / 3)\n",
        "    data_train = data[:split_point]\n",
        "    eval_len = int(len(data[split_point:]) / 2)\n",
        "    data_test = data[split_point:split_point + eval_len]\n",
        "    data_eval = data[split_point+eval_len:]\n",
        "    voc_size = (len(diag_voc.idx2word), len(pro_voc.idx2word), len(med_voc.idx2word))\n",
        "\n",
        "    EPOCH = 50\n",
        "    LR = 0.0002\n",
        "    TEST = True\n",
        "\n",
        "    model = Retain(voc_size, device=device)\n",
        "    if TEST:\n",
        "        model.load_state_dict(torch.load(open(os.path.join(resume_name), 'rb')))\n",
        "    model.to(device=device)\n",
        "    print('parameters', get_n_params(model))\n",
        "\n",
        "    optimizer = Adam(model.parameters(), lr=LR)\n",
        "\n",
        "    if TEST:\n",
        "        tic = time.time()\n",
        "        model.load_state_dict(torch.load(open(os.path.join(resume_name), 'rb')))\n",
        "        model.to(device=device)\n",
        "        ddi_rate, ja, prauc, avg_p, avg_r, avg_f1 = eval(model, data_test, voc_size, 0)\n",
        "        print ('TEST time: {}'.format(time.time() - tic))\n",
        "        return ddi_rate, ja, prauc, avg_p, avg_r, avg_f1\n",
        "    else:\n",
        "        history = defaultdict(list)\n",
        "        for epoch in range(EPOCH):\n",
        "            \n",
        "            tic = time.time()\n",
        "\n",
        "            loss_record = []\n",
        "            start_time = time.time()\n",
        "            model.train()\n",
        "            for step, input in enumerate(data_train):\n",
        "                if len(input) < 2:\n",
        "                    continue\n",
        "\n",
        "                loss = 0\n",
        "                for i in range(1, len(input)):\n",
        "                    target = np.zeros((1, voc_size[2]))\n",
        "                    target[:, input[i][2]] = 1\n",
        "\n",
        "                    output_logits = model(input[:i])\n",
        "                    loss += F.binary_cross_entropy_with_logits(output_logits, torch.FloatTensor(target).to(device))\n",
        "                    loss_record.append(loss.item())\n",
        "\n",
        "                optimizer.zero_grad()\n",
        "                loss.backward()\n",
        "                optimizer.step()\n",
        "\n",
        "                llprint('\\rTrain--Epoch: %d, Step: %d/%d' % (epoch, step, len(data_train)))\n",
        "            tic2 = time.time()\n",
        "            \n",
        "            print ('training time: {}, test time: {}'.format(time.time() - tic, time.time() - tic2))\n",
        "\n",
        "            ddi_rate, ja, prauc, avg_p, avg_r, avg_f1 = eval(model, data_eval, voc_size, epoch)\n",
        "            history['ja'].append(ja)\n",
        "            history['ddi_rate'].append(ddi_rate)\n",
        "            history['avg_p'].append(avg_p)\n",
        "            history['avg_r'].append(avg_r)\n",
        "            history['avg_f1'].append(avg_f1)\n",
        "            history['prauc'].append(prauc)\n",
        "            history['train_time'].append(time.time() - tic)\n",
        "            history['memory'].append(torch.cuda.memory_allocated(0)/1024/1024)\n",
        "\n",
        "            end_time = time.time()\n",
        "            elapsed_time = (end_time - start_time) / 60\n",
        "            llprint('\\tEpoch: %d, Loss1: %.4f, One Epoch Time: %.2fm, Appro Left Time: %.2fh\\n' % (epoch,\n",
        "                                                                                                np.mean(loss_record),\n",
        "                                                                                                elapsed_time,\n",
        "                                                                                                elapsed_time * (\n",
        "                                                                                                            EPOCH - epoch - 1)/60))\n",
        "\n",
        "            torch.save(model.state_dict(), open( os.path.join('saved', model_name, 'Epoch_%d_JA_%.4f_DDI_%.4f.model' % (epoch, ja, ddi_rate)), 'wb'))\n",
        "            print('')\n",
        "\n",
        "        dill.dump(history, open(os.path.join('saved', model_name, 'history.pkl'), 'wb'))\n",
        "\n",
        "        # test\n",
        "        torch.save(model.state_dict(), open(\n",
        "            os.path.join('saved', model_name, 'final.model'), 'wb'))\n",
        "\n",
        "\n",
        "if __name__ == '__main__':\n",
        "    main()"
      ],
      "metadata": {
        "colab": {
          "base_uri": "https://localhost:8080/"
        },
        "id": "d9teYr9e9n3F",
        "outputId": "5cb51ff6-859f-489a-c823-02ba1b01754b"
      },
      "execution_count": 11,
      "outputs": [
        {
          "output_type": "stream",
          "name": "stdout",
          "text": [
            "parameters 285489\n",
            "\n",
            "Eval--Epoch: 0, Step: 1057/1058\tDDI Rate: 0.0800, Jaccard: 0.4857,  PRAUC: 0.7530, AVG_PRC: 0.5928, AVG_RECALL: 0.7595, AVG_F1: 0.6451\n",
            "avg med 26.316749585406303\n",
            "TEST time: 7.729975700378418\n"
          ]
        }
      ]
    },
    {
      "cell_type": "code",
      "source": [
        "import pickle\n",
        "with open(os.path.join('saved', 'Retain', 'history.pkl'), 'rb') as f:\n",
        "  fin = pickle.load(f)"
      ],
      "metadata": {
        "id": "5idcoYs2VEs1"
      },
      "execution_count": null,
      "outputs": []
    },
    {
      "cell_type": "code",
      "source": [
        "import numpy as np\n",
        "print('Average Training time is: {}'.format(np.average(fin['train_time'])))\n",
        "print('Average Memory Usage is: {}'.format(np.average(fin['memory'])))\n",
        "print('Average DDI is {}, Std DDI is {}'.format(np.average(fin['ddi_rate']), np.std(fin['ddi_rate'])))\n",
        "print('Average Jaccard is {}, Std Jaccard is {}'.format(np.average(fin['ja']), np.std(fin['ja'])))"
      ],
      "metadata": {
        "colab": {
          "base_uri": "https://localhost:8080/"
        },
        "id": "jKJHXSi1VM0Q",
        "outputId": "9069055e-06fb-43fc-abe6-2d9ea09a5547"
      },
      "execution_count": null,
      "outputs": [
        {
          "output_type": "stream",
          "name": "stdout",
          "text": [
            "Average Training time is: 37.40925647735596\n",
            "Average Memory Usage is: 4.3642578125\n",
            "Average DDI is 0.08121607624395909, Std DDI is 0.003033679479938456\n",
            "Average Jaccard is 0.476266234715875, Std Jaccard is 0.018412171853630543\n"
          ]
        }
      ]
    }
  ]
}