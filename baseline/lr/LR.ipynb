{
  "nbformat": 4,
  "nbformat_minor": 0,
  "metadata": {
    "colab": {
      "name": "LR.ipynb",
      "provenance": [],
      "machine_shape": "hm",
      "authorship_tag": "ABX9TyM9BbuOSBpCHvpDF2pGx0h8",
      "include_colab_link": true
    },
    "kernelspec": {
      "name": "python3",
      "display_name": "Python 3"
    },
    "language_info": {
      "name": "python"
    }
  },
  "cells": [
    {
      "cell_type": "markdown",
      "metadata": {
        "id": "view-in-github",
        "colab_type": "text"
      },
      "source": [
        "<a href=\"https://colab.research.google.com/github/ricaelum42/Replication-of-SafeDrug/blob/main/baseline/lr/LR.ipynb\" target=\"_parent\"><img src=\"https://colab.research.google.com/assets/colab-badge.svg\" alt=\"Open In Colab\"/></a>"
      ]
    },
    {
      "cell_type": "code",
      "source": [
        "from google.colab import drive\n",
        "drive.mount('/content/drive')\n",
        "%cd /content/drive/MyDrive/UIUC/spring2022/GAMENet/code\n",
        "!ls\n",
        "!pwd"
      ],
      "metadata": {
        "colab": {
          "base_uri": "https://localhost:8080/"
        },
        "id": "FC-gNOyR1_wE",
        "outputId": "de877cef-87a0-4d9b-9d95-5dfafe75e59d"
      },
      "execution_count": null,
      "outputs": [
        {
          "output_type": "stream",
          "name": "stdout",
          "text": [
            "Mounted at /content/drive\n",
            "/content/drive/MyDrive/UIUC/spring2022/GAMENet/code\n",
            "baseline    layers.py  __pycache__  train_GAMENet.py\n",
            "deplicated  models.py  saved\t    util.py\n",
            "/content/drive/MyDrive/UIUC/spring2022/GAMENet/code\n"
          ]
        }
      ]
    },
    {
      "cell_type": "code",
      "source": [
        "!pip install dnc"
      ],
      "metadata": {
        "colab": {
          "base_uri": "https://localhost:8080/"
        },
        "id": "oU5wTiVH2L5w",
        "outputId": "d1900a43-74f6-4273-c363-36904a3aa195"
      },
      "execution_count": null,
      "outputs": [
        {
          "output_type": "stream",
          "name": "stdout",
          "text": [
            "Collecting dnc\n",
            "  Downloading dnc-1.1.0-py3-none-any.whl (20 kB)\n",
            "Requirement already satisfied: torch in /usr/local/lib/python3.7/dist-packages (from dnc) (1.11.0+cu113)\n",
            "Collecting flann\n",
            "  Downloading flann-1.6.13-py3-none-any.whl (24 kB)\n",
            "Requirement already satisfied: numpy in /usr/local/lib/python3.7/dist-packages (from dnc) (1.21.6)\n",
            "Requirement already satisfied: typing-extensions in /usr/local/lib/python3.7/dist-packages (from torch->dnc) (4.2.0)\n",
            "Installing collected packages: flann, dnc\n",
            "Successfully installed dnc-1.1.0 flann-1.6.13\n"
          ]
        }
      ]
    },
    {
      "cell_type": "code",
      "execution_count": null,
      "metadata": {
        "id": "RBjOnw6_181w"
      },
      "outputs": [],
      "source": [
        "import dill\n",
        "import numpy as np\n",
        "from sklearn.linear_model import LogisticRegression\n",
        "from sklearn.ensemble import RandomForestClassifier\n",
        "from sklearn.multiclass import OneVsRestClassifier\n",
        "from collections import defaultdict\n",
        "from sklearn.model_selection import GridSearchCV\n",
        "from sklearn.metrics import jaccard_score\n",
        "import os\n",
        "import time\n",
        "\n",
        "import sys\n",
        "sys.path.append('..')\n",
        "from util import multi_label_metric, get_n_params\n",
        "\n",
        "np.random.seed(1203)"
      ]
    },
    {
      "cell_type": "code",
      "source": [
        "model_name = 'LR'\n",
        "\n",
        "if not os.path.exists(os.path.join(\"saved\", model_name)):\n",
        "    os.makedirs(os.path.join(\"saved\", model_name))"
      ],
      "metadata": {
        "id": "_6c-IziJ2tV9"
      },
      "execution_count": null,
      "outputs": []
    },
    {
      "cell_type": "code",
      "source": [
        "def create_dataset(data, diag_voc, pro_voc, med_voc):\n",
        "    i1_len = len(diag_voc.idx2word)\n",
        "    i2_len = len(pro_voc.idx2word)\n",
        "    output_len = len(med_voc.idx2word)\n",
        "    input_len = i1_len + i2_len\n",
        "    X = []\n",
        "    y = []\n",
        "    for patient in data:\n",
        "        for visit in patient:\n",
        "            i1 = visit[0]\n",
        "            i2 = visit[1]\n",
        "            o = visit[2]\n",
        "\n",
        "            multi_hot_input = np.zeros(input_len)\n",
        "            multi_hot_input[i1] = 1\n",
        "            multi_hot_input[np.array(i2) + i1_len] = 1\n",
        "\n",
        "            multi_hot_output = np.zeros(output_len)\n",
        "            multi_hot_output[o] = 1\n",
        "\n",
        "            X.append(multi_hot_input)\n",
        "            y.append(multi_hot_output)\n",
        "\n",
        "    return np.array(X), np.array(y)\n",
        "\n",
        "\n",
        "def main():\n",
        "    grid_search = False\n",
        "    data_path = '../data/records_final.pkl'\n",
        "    voc_path = '../data/voc_final.pkl'\n",
        "\n",
        "    data = dill.load(open(data_path, 'rb'))\n",
        "    voc = dill.load(open(voc_path, 'rb'))\n",
        "    diag_voc, pro_voc, med_voc = voc['diag_voc'], voc['pro_voc'], voc['med_voc']\n",
        "\n",
        "    split_point = int(len(data) * 2 / 3)\n",
        "    data_train = data[:split_point]\n",
        "    eval_len = int(len(data[split_point:]) / 2)\n",
        "    data_eval = data[split_point+eval_len:]\n",
        "    data_test = data[split_point:split_point + eval_len]\n",
        "\n",
        "    train_X, train_y = create_dataset(data_train, diag_voc, pro_voc, med_voc)\n",
        "    test_X, test_y = create_dataset(data_test, diag_voc, pro_voc, med_voc)\n",
        "    eval_X, eval_y = create_dataset(data_eval, diag_voc, pro_voc, med_voc)\n",
        "\n",
        "    if grid_search:\n",
        "        params = {\n",
        "            'estimator__penalty': ['l2'],\n",
        "            'estimator__C': np.linspace(0.00002, 1, 100)\n",
        "        }\n",
        "\n",
        "        model = LogisticRegression()\n",
        "        classifier = OneVsRestClassifier(model)\n",
        "        lr_gs = GridSearchCV(classifier, params, verbose=1).fit(train_X, train_y)\n",
        "        \n",
        "        print('parameters', get_n_params(model))\n",
        "\n",
        "        print(\"Best Params\", lr_gs.best_params_)\n",
        "        print(\"Best Score\", lr_gs.best_score_)\n",
        "\n",
        "        return\n",
        "\n",
        "\n",
        "    # sample_X, sample_y = create_dataset(sample_data, diag_voc, pro_voc, med_voc)\n",
        "\n",
        "    model = LogisticRegression(C=0.90909)\n",
        "    classifier = OneVsRestClassifier(model)\n",
        "\n",
        "    tic = time.time()\n",
        "\n",
        "    classifier.fit(train_X, train_y)\n",
        "    y_pred = classifier.predict(test_X)\n",
        "    \n",
        "    tic2 = time.time()\n",
        "    print ('training time: {}, test time: {}'.format(time.time() - tic, time.time() - tic2))\n",
        "\n",
        "    y_prob = classifier.predict_proba(test_X)\n",
        "\n",
        "    ja, prauc, avg_p, avg_r, avg_f1 = multi_label_metric(test_y, y_pred, y_prob)\n",
        "\n",
        "    # ddi rate\n",
        "    ddi_A = dill.load(open('../data/ddi_A_final.pkl', 'rb'))\n",
        "    all_cnt = 0\n",
        "    dd_cnt = 0\n",
        "    med_cnt = 0\n",
        "    visit_cnt = 0\n",
        "    for adm in y_pred:\n",
        "        med_code_set = np.where(adm==1)[0]\n",
        "        visit_cnt += 1\n",
        "        med_cnt += len(med_code_set)\n",
        "        for i, med_i in enumerate(med_code_set):\n",
        "            for j, med_j in enumerate(med_code_set):\n",
        "                if j <= i:\n",
        "                    continue\n",
        "                all_cnt += 1\n",
        "                if ddi_A[med_i, med_j] == 1 or ddi_A[med_j, med_i] == 1:\n",
        "                    dd_cnt += 1\n",
        "    ddi_rate = dd_cnt / all_cnt\n",
        "    print('\\tDDI Rate: %.4f, Jaccard: %.4f, PRAUC: %.4f, AVG_PRC: %.4f, AVG_RECALL: %.4f, AVG_F1: %.4f\\n' % (\n",
        "        ddi_rate, ja, prauc, avg_p, avg_r, avg_f1\n",
        "    ))\n",
        "\n",
        "    history = defaultdict(list)\n",
        "    for i in range(50):\n",
        "        history['jaccard'].append(ja)\n",
        "        history['ddi_rate'].append(ddi_rate)\n",
        "        history['avg_p'].append(avg_p)\n",
        "        history['avg_r'].append(avg_r)\n",
        "        history['avg_f1'].append(avg_f1)\n",
        "        history['prauc'].append(prauc)\n",
        "\n",
        "    dill.dump(history, open(os.path.join('saved', model_name, 'history.pkl'), 'wb'))\n",
        "\n",
        "    print('avg med', med_cnt / visit_cnt)\n",
        "\n",
        "\n",
        "if __name__ == '__main__':\n",
        "    main()"
      ],
      "metadata": {
        "colab": {
          "base_uri": "https://localhost:8080/"
        },
        "id": "8Mfc__n52-D-",
        "outputId": "2774f666-4517-4925-c4cf-7ff08b7d0dd9"
      },
      "execution_count": null,
      "outputs": [
        {
          "output_type": "stream",
          "name": "stdout",
          "text": [
            "training time: 382.51987385749817, test time: 4.0531158447265625e-06\n",
            "\tDDI Rate: 0.0724, Jaccard: 0.4543, PRAUC: 0.7550, AVG_PRC: 0.7763, AVG_RECALL: 0.5292, AVG_F1: 0.6142\n",
            "\n",
            "avg med 14.226590106007068\n"
          ]
        }
      ]
    }
  ]
}